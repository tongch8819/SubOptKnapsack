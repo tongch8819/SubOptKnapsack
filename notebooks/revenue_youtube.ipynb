{
 "cells": [
  {
   "cell_type": "code",
   "execution_count": 1,
   "metadata": {},
   "outputs": [],
   "source": [
    "import random\n",
    "random.seed(1)\n",
    "import pickle"
   ]
  },
  {
   "cell_type": "code",
   "execution_count": 2,
   "metadata": {},
   "outputs": [
    {
     "ename": "FileNotFoundError",
     "evalue": "[Errno 2] No such file or directory: '../dataset/revenue/com-youtube.top5000.cmty.txt'",
     "output_type": "error",
     "traceback": [
      "\u001b[1;31m---------------------------------------------------------------------------\u001b[0m",
      "\u001b[1;31mFileNotFoundError\u001b[0m                         Traceback (most recent call last)",
      "\u001b[1;32md:\\submax\\notebooks\\revenue_youtube.ipynb Cell 2\u001b[0m line \u001b[0;36m4\n\u001b[0;32m      <a href='vscode-notebook-cell:/d%3A/submax/notebooks/revenue_youtube.ipynb#W1sZmlsZQ%3D%3D?line=0'>1</a>\u001b[0m com_path \u001b[39m=\u001b[39m \u001b[39m\"\u001b[39m\u001b[39m../dataset/revenue/com-youtube.top5000.cmty.txt\u001b[39m\u001b[39m\"\u001b[39m\n\u001b[0;32m      <a href='vscode-notebook-cell:/d%3A/submax/notebooks/revenue_youtube.ipynb#W1sZmlsZQ%3D%3D?line=1'>2</a>\u001b[0m graph_path \u001b[39m=\u001b[39m \u001b[39m\"\u001b[39m\u001b[39m../dataset/revenue/com-youtube.ungraph.txt\u001b[39m\u001b[39m\"\u001b[39m\n\u001b[1;32m----> <a href='vscode-notebook-cell:/d%3A/submax/notebooks/revenue_youtube.ipynb#W1sZmlsZQ%3D%3D?line=3'>4</a>\u001b[0m \u001b[39mwith\u001b[39;00m \u001b[39mopen\u001b[39;49m(com_path, \u001b[39m\"\u001b[39;49m\u001b[39mr\u001b[39;49m\u001b[39m\"\u001b[39;49m) \u001b[39mas\u001b[39;00m rd:\n\u001b[0;32m      <a href='vscode-notebook-cell:/d%3A/submax/notebooks/revenue_youtube.ipynb#W1sZmlsZQ%3D%3D?line=4'>5</a>\u001b[0m     content \u001b[39m=\u001b[39m rd\u001b[39m.\u001b[39mreadlines()\n\u001b[0;32m      <a href='vscode-notebook-cell:/d%3A/submax/notebooks/revenue_youtube.ipynb#W1sZmlsZQ%3D%3D?line=6'>7</a>\u001b[0m sample_size \u001b[39m=\u001b[39m \u001b[39m25\u001b[39m\n",
      "File \u001b[1;32m~\\AppData\\Roaming\\Python\\Python39\\site-packages\\IPython\\core\\interactiveshell.py:308\u001b[0m, in \u001b[0;36m_modified_open\u001b[1;34m(file, *args, **kwargs)\u001b[0m\n\u001b[0;32m    301\u001b[0m \u001b[39mif\u001b[39;00m file \u001b[39min\u001b[39;00m {\u001b[39m0\u001b[39m, \u001b[39m1\u001b[39m, \u001b[39m2\u001b[39m}:\n\u001b[0;32m    302\u001b[0m     \u001b[39mraise\u001b[39;00m \u001b[39mValueError\u001b[39;00m(\n\u001b[0;32m    303\u001b[0m         \u001b[39mf\u001b[39m\u001b[39m\"\u001b[39m\u001b[39mIPython won\u001b[39m\u001b[39m'\u001b[39m\u001b[39mt let you open fd=\u001b[39m\u001b[39m{\u001b[39;00mfile\u001b[39m}\u001b[39;00m\u001b[39m by default \u001b[39m\u001b[39m\"\u001b[39m\n\u001b[0;32m    304\u001b[0m         \u001b[39m\"\u001b[39m\u001b[39mas it is likely to crash IPython. If you know what you are doing, \u001b[39m\u001b[39m\"\u001b[39m\n\u001b[0;32m    305\u001b[0m         \u001b[39m\"\u001b[39m\u001b[39myou can use builtins\u001b[39m\u001b[39m'\u001b[39m\u001b[39m open.\u001b[39m\u001b[39m\"\u001b[39m\n\u001b[0;32m    306\u001b[0m     )\n\u001b[1;32m--> 308\u001b[0m \u001b[39mreturn\u001b[39;00m io_open(file, \u001b[39m*\u001b[39margs, \u001b[39m*\u001b[39m\u001b[39m*\u001b[39mkwargs)\n",
      "\u001b[1;31mFileNotFoundError\u001b[0m: [Errno 2] No such file or directory: '../dataset/revenue/com-youtube.top5000.cmty.txt'"
     ]
    }
   ],
   "source": [
    "com_path = \"../dataset/revenue/com-youtube.top5000.cmty.txt\"\n",
    "graph_path = \"../dataset/revenue/com-youtube.ungraph.txt\"\n",
    "\n",
    "with open(com_path, \"r\") as rd:\n",
    "    content = rd.readlines()\n",
    "\n",
    "sample_size = 25\n",
    "content_sample = random.sample(content, sample_size)\n",
    "communities = []\n",
    "for line in content_sample:\n",
    "    communities.append(\n",
    "        list(map(int, line.strip().split()))\n",
    "    )\n",
    "\n",
    "ground_set = set()\n",
    "for com in communities:\n",
    "    for v in com:\n",
    "        ground_set.add(v)\n",
    "\n",
    "print(\"Size of ground set:\", len(ground_set))\n",
    "\n",
    "edges = []\n",
    "with open(graph_path, \"r\") as rd:\n",
    "    offset = 4  # skip heads of tables\n",
    "    for line in rd.readlines()[offset:]:\n",
    "        u, v = list(map(int, line.strip().split()))\n",
    "        if u in ground_set and v in ground_set:\n",
    "            edges.append((u, v))\n",
    "\n",
    "print(\"Size of edges:\", len(edges))"
   ]
  },
  {
   "cell_type": "code",
   "execution_count": 25,
   "metadata": {},
   "outputs": [
    {
     "name": "stdout",
     "output_type": "stream",
     "text": [
      "|V|, |E| =  250 426\n"
     ]
    }
   ],
   "source": [
    "V = sorted(list(ground_set))\n",
    "V_map = { x:i for i, x in enumerate(V)}\n",
    "E = list(map(lambda x: (V_map[x[0]], V_map[x[1]]), edges))\n",
    "print(\"|V|, |E| = \", len(V), len(E))"
   ]
  },
  {
   "cell_type": "code",
   "execution_count": 22,
   "metadata": {},
   "outputs": [],
   "source": [
    "res = {\n",
    "    'num_vertices' : len(V),\n",
    "    'edges' : E\n",
    "}\n",
    "with open(\"../dataset/revenue/25_youtube_top5000.pkl\", \"wb\") as wrt:\n",
    "    pickle.dump(res, wrt)"
   ]
  }
 ],
 "metadata": {
  "kernelspec": {
   "display_name": "subopt",
   "language": "python",
   "name": "python3"
  },
  "language_info": {
   "codemirror_mode": {
    "name": "ipython",
    "version": 3
   },
   "file_extension": ".py",
   "mimetype": "text/x-python",
   "name": "python",
   "nbconvert_exporter": "python",
   "pygments_lexer": "ipython3",
   "version": "3.9.13"
  }
 },
 "nbformat": 4,
 "nbformat_minor": 2
}
