{
 "cells": [
  {
   "cell_type": "code",
   "execution_count": 1,
   "metadata": {},
   "outputs": [],
   "source": [
    "import matplotlib.pyplot as plt\n",
    "import numpy as np\n",
    "import pandas as pd"
   ]
  },
  {
   "cell_type": "code",
   "execution_count": 2,
   "metadata": {},
   "outputs": [],
   "source": [
    "tasks = [\n",
    "    \"facility location\",\n",
    "    \"image summarization\",\n",
    "    \"movie recommendation\",\n",
    "    \"revenue maximization\"\n",
    "]"
   ]
  },
  {
   "cell_type": "markdown",
   "metadata": {},
   "source": [
    "For each application, we sample 4 points from (r, b)-space. For each point, we construct 4 problem instances and compare the result of two greedy algorithms: density greedy and marginal gain greedy.\n",
    "So it is better we show our results in a table.\n",
    "\n",
    "Specification: \n",
    "for each task, we create a csv file with filename set task name.\n",
    "In each csv file, columns: cost ratio, budget, DG performance, MGG performance, is consistent\n",
    "\n",
    "Once these four data files are well-established, we convert them into latex table.\n",
    "\n",
    "Definition of 4 points from (r, b)-space.\n",
    "Write a script to search for these 4 points. "
   ]
  },
  {
   "cell_type": "markdown",
   "metadata": {},
   "source": [
    "# Post Data Analysis"
   ]
  },
  {
   "cell_type": "code",
   "execution_count": 7,
   "metadata": {},
   "outputs": [
    {
     "data": {
      "text/html": [
       "<div>\n",
       "<style scoped>\n",
       "    .dataframe tbody tr th:only-of-type {\n",
       "        vertical-align: middle;\n",
       "    }\n",
       "\n",
       "    .dataframe tbody tr th {\n",
       "        vertical-align: top;\n",
       "    }\n",
       "\n",
       "    .dataframe thead th {\n",
       "        text-align: right;\n",
       "    }\n",
       "</style>\n",
       "<table border=\"1\" class=\"dataframe\">\n",
       "  <thead>\n",
       "    <tr style=\"text-align: right;\">\n",
       "      <th></th>\n",
       "      <th>model_name</th>\n",
       "      <th>cost_ratio</th>\n",
       "      <th>budget</th>\n",
       "      <th>density</th>\n",
       "      <th>marginal_gain</th>\n",
       "      <th>is_dominance_theoretical</th>\n",
       "      <th>is_dominance_practical</th>\n",
       "    </tr>\n",
       "  </thead>\n",
       "  <tbody>\n",
       "    <tr>\n",
       "      <th>0</th>\n",
       "      <td>movie</td>\n",
       "      <td>1.1</td>\n",
       "      <td>2.0</td>\n",
       "      <td>7.317861</td>\n",
       "      <td>7.317861</td>\n",
       "      <td>True</td>\n",
       "      <td>True</td>\n",
       "    </tr>\n",
       "    <tr>\n",
       "      <th>1</th>\n",
       "      <td>movie</td>\n",
       "      <td>1.1</td>\n",
       "      <td>3.0</td>\n",
       "      <td>13.198527</td>\n",
       "      <td>13.376736</td>\n",
       "      <td>True</td>\n",
       "      <td>False</td>\n",
       "    </tr>\n",
       "    <tr>\n",
       "      <th>2</th>\n",
       "      <td>movie</td>\n",
       "      <td>1.1</td>\n",
       "      <td>3.2</td>\n",
       "      <td>18.611354</td>\n",
       "      <td>18.442580</td>\n",
       "      <td>True</td>\n",
       "      <td>True</td>\n",
       "    </tr>\n",
       "    <tr>\n",
       "      <th>3</th>\n",
       "      <td>movie</td>\n",
       "      <td>1.1</td>\n",
       "      <td>4.2</td>\n",
       "      <td>22.625186</td>\n",
       "      <td>18.722640</td>\n",
       "      <td>True</td>\n",
       "      <td>True</td>\n",
       "    </tr>\n",
       "    <tr>\n",
       "      <th>4</th>\n",
       "      <td>movie</td>\n",
       "      <td>1.1</td>\n",
       "      <td>4.4</td>\n",
       "      <td>22.950489</td>\n",
       "      <td>23.148300</td>\n",
       "      <td>True</td>\n",
       "      <td>False</td>\n",
       "    </tr>\n",
       "  </tbody>\n",
       "</table>\n",
       "</div>"
      ],
      "text/plain": [
       "  model_name  cost_ratio  budget    density  marginal_gain  \\\n",
       "0      movie         1.1     2.0   7.317861       7.317861   \n",
       "1      movie         1.1     3.0  13.198527      13.376736   \n",
       "2      movie         1.1     3.2  18.611354      18.442580   \n",
       "3      movie         1.1     4.2  22.625186      18.722640   \n",
       "4      movie         1.1     4.4  22.950489      23.148300   \n",
       "\n",
       "   is_dominance_theoretical  is_dominance_practical  \n",
       "0                      True                    True  \n",
       "1                      True                   False  \n",
       "2                      True                    True  \n",
       "3                      True                    True  \n",
       "4                      True                   False  "
      ]
     },
     "execution_count": 7,
     "metadata": {},
     "output_type": "execute_result"
    }
   ],
   "source": [
    "df = pd.read_csv(\"../result/CostInterpolation-20250207/test/output_500.txt\")\n",
    "df.head()"
   ]
  },
  {
   "cell_type": "code",
   "execution_count": 12,
   "metadata": {},
   "outputs": [
    {
     "name": "stdout",
     "output_type": "stream",
     "text": [
      "Total coverage is 0.3238095238095238\n",
      "Model specific coverage for movie is 0.48095238095238096\n",
      "Model specific coverage for image is 0.16666666666666666\n",
      "Total coverage is 0.3238095238095238\n",
      "Model specific coverage for movie is 0.48095238095238096\n",
      "Model specific coverage for image is 0.16666666666666666\n"
     ]
    }
   ],
   "source": [
    "def compute_coverage(data_frame, model_name=None):\n",
    "    if model_name is not None:\n",
    "        # compute model specific coverage\n",
    "        data_frame = data_frame[data_frame[\"model_name\"] == model_name]\n",
    "    coverage = len(data_frame[data_frame[\"is_dominance_theoretical\"] == data_frame[\"is_dominance_practical\"]]) / len(data_frame)\n",
    "    return coverage                       \n",
    "\n",
    "def check_coverage(path: str=\"../result/CostInterpolation-20250207/test/output_500.txt\"):\n",
    "    df = pd.read_csv(path)\n",
    "    total_coverage = compute_coverage(df)\n",
    "    print(\"Total coverage is {}\".format(total_coverage))\n",
    "    for model_name in [\"movie\", \"image\"]:\n",
    "        model_specific_coverage = compute_coverage(df, model_name)\n",
    "        print(\"Model specific coverage for {} is {}\".format(model_name, model_specific_coverage))\n",
    "\n",
    "check_coverage(\"../result/CostInterpolation-20250207/test/output_500.txt\")\n",
    "check_coverage(\"../result/CostInterpolation-20250207/test/output_1000.txt\")"
   ]
  },
  {
   "cell_type": "code",
   "execution_count": null,
   "metadata": {},
   "outputs": [],
   "source": []
  }
 ],
 "metadata": {
  "kernelspec": {
   "display_name": "subopt",
   "language": "python",
   "name": "python3"
  },
  "language_info": {
   "codemirror_mode": {
    "name": "ipython",
    "version": 3
   },
   "file_extension": ".py",
   "mimetype": "text/x-python",
   "name": "python",
   "nbconvert_exporter": "python",
   "pygments_lexer": "ipython3",
   "version": "3.10.0"
  }
 },
 "nbformat": 4,
 "nbformat_minor": 2
}
